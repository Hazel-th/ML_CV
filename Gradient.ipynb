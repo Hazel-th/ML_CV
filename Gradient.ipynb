{
 "cells": [
  {
   "cell_type": "code",
   "execution_count": 10,
   "id": "092e698e",
   "metadata": {},
   "outputs": [],
   "source": [
    "import numpy as np\n",
    "import yaml"
   ]
  },
  {
   "cell_type": "code",
   "execution_count": 27,
   "id": "87577396",
   "metadata": {
    "scrolled": true
   },
   "outputs": [
    {
     "name": "stdout",
     "output_type": "stream",
     "text": [
      "Prediction: [ 1.   2.   1.   0.  -0.5]\n",
      "Loss: 0.5\n"
     ]
    }
   ],
   "source": [
    "X = np.array([\n",
    "    [0, 1],\n",
    "    [1, 1],\n",
    "    [1, 0],\n",
    "    [-0.5, 0.5],\n",
    "    [0, -0.5]\n",
    "])\n",
    "\n",
    "\n",
    "\n",
    "\n",
    "y = np.array([1, 1, 1, -1, -1])\n",
    "\n",
    "theta0 = np.array([1.0, 1.0, 0.0])\n",
    "\n",
    "\n",
    "\n",
    "lr = 0.1\n",
    "def f(X, theta):\n",
    "    theta = np.asarray(theta)\n",
    "    return (X * theta[:2]).sum(axis = -1) + theta[2]\n",
    "\n",
    "\n",
    "def loss(X, y, theta):\n",
    "    theta = np.asarray(theta)\n",
    "    norm = (theta ** 2).sum()\n",
    "    deltas = y * f(X, theta)\n",
    "    return 0.1 * norm + np.mean(np.maximum(0, 1 - deltas))\n",
    " \n",
    "print(\"Prediction:\", f(X, theta0))\n",
    "print(\"Loss:\", loss(X, y, theta0))\n"
   ]
  },
  {
   "cell_type": "code",
   "execution_count": 28,
   "id": "e6ce4667",
   "metadata": {},
   "outputs": [],
   "source": [
    "def d_loss2(X, y, theta):\n",
    "    theta = np.asarray(theta)\n",
    "    deltas = y*f(X, theta)\n",
    "    indicator = np.maximum(0, 1 - deltas)\n",
    "    d_indicator = indicator.copy()\n",
    "    d_indicator[indicator > 0] = 1\n",
    "    d_deltas = -y * d_indicator\n",
    "    d_theta = np.zeros_like(theta)\n",
    "    d_theta[:2] = (X.T * d_deltas).sum(axis=1)\n",
    "    d_theta[2] = d_deltas.sum()\n",
    "    return d_theta"
   ]
  },
  {
   "cell_type": "code",
   "execution_count": 29,
   "id": "455958d2",
   "metadata": {},
   "outputs": [],
   "source": [
    "def d_loss(X, y, theta):\n",
    "    return np.array([\n",
    "        0.2 * theta[0] + 0.2 * (sum([max(0, - y[i] * X[i][0]) for i in range(5)])),\n",
    "        0.2 * theta[1] + 0.2 * (sum([max(0, - y[i] * X[i][1]) for i in range(5)])),\n",
    "        0.2 * theta[2] + 0.2 * sum([max(0, - y[i]) for i in range(5)])\n",
    "        ])"
   ]
  },
  {
   "cell_type": "code",
   "execution_count": 30,
   "id": "ffdb0c9a",
   "metadata": {},
   "outputs": [
    {
     "name": "stdout",
     "output_type": "stream",
     "text": [
      "Prediction: [ 0.998    1.9985   0.9985  -0.00225 -0.502  ]\n",
      "Loss: 0.4999504250000001\n"
     ]
    }
   ],
   "source": [
    "theta_n = theta0\n",
    "for i in range(1000):\n",
    "    dl = d_loss2(X, y, theta_n)\n",
    "    theta_n = theta_n - lr * dl\n",
    "    if l <= 0.5:\n",
    "        break\n",
    "\n",
    "print(\"Prediction:\", f(X, theta_n))\n",
    "print(\"Loss:\", loss(X, y, theta_n))"
   ]
  },
  {
   "cell_type": "code",
   "execution_count": null,
   "id": "30708108",
   "metadata": {},
   "outputs": [],
   "source": [
    "with open(\"submission.yaml\", \"w\") as fp:\n",
    "    yaml.safe_dump({\"tasks\": [{\"task1\": {\"answer\": theta_n.tolist()}}]}, fp)"
   ]
  }
 ],
 "metadata": {
  "kernelspec": {
   "display_name": "Python 3 (ipykernel)",
   "language": "python",
   "name": "python3"
  },
  "language_info": {
   "codemirror_mode": {
    "name": "ipython",
    "version": 3
   },
   "file_extension": ".py",
   "mimetype": "text/x-python",
   "name": "python",
   "nbconvert_exporter": "python",
   "pygments_lexer": "ipython3",
   "version": "3.9.13"
  }
 },
 "nbformat": 4,
 "nbformat_minor": 5
}
