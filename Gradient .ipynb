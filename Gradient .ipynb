{
 "cells": [
  {
   "cell_type": "code",
   "execution_count": 35,
   "id": "092e698e",
   "metadata": {},
   "outputs": [],
   "source": [
    "import numpy as np\n",
    "import yaml\n",
    "from matplotlib import pyplot as plt"
   ]
  },
  {
   "cell_type": "code",
   "execution_count": 36,
   "id": "87577396",
   "metadata": {},
   "outputs": [
    {
     "name": "stdout",
     "output_type": "stream",
     "text": [
      "Prediction: [ 1.   2.   1.   0.  -0.5]\n",
      "Loss: 0.5\n"
     ]
    }
   ],
   "source": [
    "X = np.array([\n",
    "    [0, 1],\n",
    "    [1, 1],\n",
    "    [1, 0],\n",
    "    [-0.5, 0.5],\n",
    "    [0, -0.5]\n",
    "])\n",
    "\n",
    "X = np.hstack((X, np.ones((5, 1)))) \n",
    "\n",
    "\n",
    "y = np.array([1, 1, 1, -1, -1])\n",
    "\n",
    "theta0 = np.array([1.0, 1.0, 0.0])\n",
    "\n",
    "\n",
    "\n",
    "lr = 0.1\n",
    "\n",
    "def f(X, theta):\n",
    "    theta = np.asarray(theta)\n",
    "    return (X * theta).sum(axis = 1)\n",
    "\n",
    "\n",
    "def loss(X, y, theta):\n",
    "    theta = np.asarray(theta)\n",
    "    norm = (theta ** 2).sum()\n",
    "    deltas = y * f(X, theta)\n",
    "    return 0.1 * norm + np.mean(np.maximum(0, 1 - deltas))\n",
    "\n",
    "print(\"Prediction:\", f(X, theta0))\n",
    "print(\"Loss:\", loss(X, y, theta0))\n"
   ]
  },
  {
   "cell_type": "code",
   "execution_count": 53,
   "id": "c37c5a29",
   "metadata": {},
   "outputs": [
    {
     "name": "stdout",
     "output_type": "stream",
     "text": [
      "Prediction: [ 0.9    1.85   0.9   -0.05  -0.525]\n",
      "Loss: 0.50575\n"
     ]
    }
   ],
   "source": [
    "theta_n = theta0\n",
    "for i in range(1000):\n",
    "    l = loss(X, y, theta_n)\n",
    "    theta_n = theta_n - lr * l\n",
    "    if np.linalg.norm(l)<0.51:\n",
    "        break\n",
    "\n",
    "print(\"Prediction:\", f(X, theta_n))\n",
    "print(\"Loss:\", loss(X, y, theta_n))\n",
    "   \n",
    "    "
   ]
  },
  {
   "cell_type": "code",
   "execution_count": null,
   "id": "82a231af",
   "metadata": {},
   "outputs": [],
   "source": []
  },
  {
   "cell_type": "code",
   "execution_count": 54,
   "id": "ef19dfe6",
   "metadata": {},
   "outputs": [],
   "source": [
    "with open(\"submission.yaml\", \"w\") as fp:\n",
    "    yaml.safe_dump({\"tasks\": [{\"task1\": {\"answer\": theta_n.tolist()}}]}, fp)"
   ]
  }
 ],
 "metadata": {
  "kernelspec": {
   "display_name": "Python 3 (ipykernel)",
   "language": "python",
   "name": "python3"
  },
  "language_info": {
   "codemirror_mode": {
    "name": "ipython",
    "version": 3
   },
   "file_extension": ".py",
   "mimetype": "text/x-python",
   "name": "python",
   "nbconvert_exporter": "python",
   "pygments_lexer": "ipython3",
   "version": "3.9.13"
  }
 },
 "nbformat": 4,
 "nbformat_minor": 5
}
